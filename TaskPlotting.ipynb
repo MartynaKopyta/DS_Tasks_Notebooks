{
 "cells": [
  {
   "cell_type": "code",
   "execution_count": 1,
   "id": "5463e488",
   "metadata": {},
   "outputs": [],
   "source": [
    "%matplotlib inline\n",
    "\n",
    "import pandas as pd\n",
    "import seaborn as sns\n",
    "import numpy as np\n",
    "import matplotlib.pyplot as plt\n"
   ]
  },
  {
   "cell_type": "code",
   "execution_count": 2,
   "id": "1e18d89d",
   "metadata": {},
   "outputs": [
    {
     "data": {
      "text/html": [
       "<div>\n",
       "<style scoped>\n",
       "    .dataframe tbody tr th:only-of-type {\n",
       "        vertical-align: middle;\n",
       "    }\n",
       "\n",
       "    .dataframe tbody tr th {\n",
       "        vertical-align: top;\n",
       "    }\n",
       "\n",
       "    .dataframe thead th {\n",
       "        text-align: right;\n",
       "    }\n",
       "</style>\n",
       "<table border=\"1\" class=\"dataframe\">\n",
       "  <thead>\n",
       "    <tr style=\"text-align: right;\">\n",
       "      <th></th>\n",
       "      <th>Year</th>\n",
       "      <th>Rank</th>\n",
       "      <th>Company</th>\n",
       "      <th>Revenue (in millions)</th>\n",
       "      <th>Profit (in millions)</th>\n",
       "    </tr>\n",
       "  </thead>\n",
       "  <tbody>\n",
       "    <tr>\n",
       "      <th>0</th>\n",
       "      <td>1955</td>\n",
       "      <td>1</td>\n",
       "      <td>General Motors</td>\n",
       "      <td>9823.5</td>\n",
       "      <td>806</td>\n",
       "    </tr>\n",
       "    <tr>\n",
       "      <th>1</th>\n",
       "      <td>1955</td>\n",
       "      <td>2</td>\n",
       "      <td>Exxon Mobil</td>\n",
       "      <td>5661.4</td>\n",
       "      <td>584.8</td>\n",
       "    </tr>\n",
       "    <tr>\n",
       "      <th>2</th>\n",
       "      <td>1955</td>\n",
       "      <td>3</td>\n",
       "      <td>U.S. Steel</td>\n",
       "      <td>3250.4</td>\n",
       "      <td>195.4</td>\n",
       "    </tr>\n",
       "    <tr>\n",
       "      <th>3</th>\n",
       "      <td>1955</td>\n",
       "      <td>4</td>\n",
       "      <td>General Electric</td>\n",
       "      <td>2959.1</td>\n",
       "      <td>212.6</td>\n",
       "    </tr>\n",
       "    <tr>\n",
       "      <th>4</th>\n",
       "      <td>1955</td>\n",
       "      <td>5</td>\n",
       "      <td>Esmark</td>\n",
       "      <td>2510.8</td>\n",
       "      <td>19.1</td>\n",
       "    </tr>\n",
       "  </tbody>\n",
       "</table>\n",
       "</div>"
      ],
      "text/plain": [
       "   Year  Rank           Company  Revenue (in millions) Profit (in millions)\n",
       "0  1955     1    General Motors                 9823.5                  806\n",
       "1  1955     2       Exxon Mobil                 5661.4                584.8\n",
       "2  1955     3        U.S. Steel                 3250.4                195.4\n",
       "3  1955     4  General Electric                 2959.1                212.6\n",
       "4  1955     5            Esmark                 2510.8                 19.1"
      ]
     },
     "execution_count": 2,
     "metadata": {},
     "output_type": "execute_result"
    }
   ],
   "source": [
    "df1 = pd.read_csv('fortune500-full.csv')\n",
    "df1.head(5)"
   ]
  },
  {
   "cell_type": "code",
   "execution_count": 3,
   "id": "5107ebdd",
   "metadata": {},
   "outputs": [
    {
     "data": {
      "text/html": [
       "<div>\n",
       "<style scoped>\n",
       "    .dataframe tbody tr th:only-of-type {\n",
       "        vertical-align: middle;\n",
       "    }\n",
       "\n",
       "    .dataframe tbody tr th {\n",
       "        vertical-align: top;\n",
       "    }\n",
       "\n",
       "    .dataframe thead th {\n",
       "        text-align: right;\n",
       "    }\n",
       "</style>\n",
       "<table border=\"1\" class=\"dataframe\">\n",
       "  <thead>\n",
       "    <tr style=\"text-align: right;\">\n",
       "      <th></th>\n",
       "      <th>Year</th>\n",
       "      <th>Rank</th>\n",
       "      <th>Company</th>\n",
       "      <th>Revenue (in millions)</th>\n",
       "      <th>Profit (in millions)</th>\n",
       "    </tr>\n",
       "  </thead>\n",
       "  <tbody>\n",
       "    <tr>\n",
       "      <th>0</th>\n",
       "      <td>1955</td>\n",
       "      <td>1</td>\n",
       "      <td>General Motors</td>\n",
       "      <td>9823.5</td>\n",
       "      <td>806</td>\n",
       "    </tr>\n",
       "    <tr>\n",
       "      <th>1</th>\n",
       "      <td>1955</td>\n",
       "      <td>2</td>\n",
       "      <td>Exxon Mobil</td>\n",
       "      <td>5661.4</td>\n",
       "      <td>584.8</td>\n",
       "    </tr>\n",
       "    <tr>\n",
       "      <th>3</th>\n",
       "      <td>1955</td>\n",
       "      <td>4</td>\n",
       "      <td>General Electric</td>\n",
       "      <td>2959.1</td>\n",
       "      <td>212.6</td>\n",
       "    </tr>\n",
       "    <tr>\n",
       "      <th>500</th>\n",
       "      <td>1956</td>\n",
       "      <td>1</td>\n",
       "      <td>General Motors</td>\n",
       "      <td>12443.3</td>\n",
       "      <td>1189.5</td>\n",
       "    </tr>\n",
       "    <tr>\n",
       "      <th>501</th>\n",
       "      <td>1956</td>\n",
       "      <td>2</td>\n",
       "      <td>Exxon Mobil</td>\n",
       "      <td>6272.4</td>\n",
       "      <td>709.3</td>\n",
       "    </tr>\n",
       "  </tbody>\n",
       "</table>\n",
       "</div>"
      ],
      "text/plain": [
       "     Year  Rank           Company  Revenue (in millions) Profit (in millions)\n",
       "0    1955     1    General Motors                 9823.5                  806\n",
       "1    1955     2       Exxon Mobil                 5661.4                584.8\n",
       "3    1955     4  General Electric                 2959.1                212.6\n",
       "500  1956     1    General Motors                12443.3               1189.5\n",
       "501  1956     2       Exxon Mobil                 6272.4                709.3"
      ]
     },
     "execution_count": 3,
     "metadata": {},
     "output_type": "execute_result"
    }
   ],
   "source": [
    "df2 = df1.loc[(df1['Company'] == 'General Motors') | (df1['Company'] == 'Exxon Mobil') | (df1['Company'] == 'General Electric')].copy()\n",
    "df2.head()"
   ]
  },
  {
   "cell_type": "code",
   "execution_count": 4,
   "id": "266b783f",
   "metadata": {},
   "outputs": [
    {
     "data": {
      "text/html": [
       "<div>\n",
       "<style scoped>\n",
       "    .dataframe tbody tr th:only-of-type {\n",
       "        vertical-align: middle;\n",
       "    }\n",
       "\n",
       "    .dataframe tbody tr th {\n",
       "        vertical-align: top;\n",
       "    }\n",
       "\n",
       "    .dataframe thead th {\n",
       "        text-align: right;\n",
       "    }\n",
       "</style>\n",
       "<table border=\"1\" class=\"dataframe\">\n",
       "  <thead>\n",
       "    <tr style=\"text-align: right;\">\n",
       "      <th></th>\n",
       "      <th>Average</th>\n",
       "    </tr>\n",
       "    <tr>\n",
       "      <th>Year</th>\n",
       "      <th></th>\n",
       "    </tr>\n",
       "  </thead>\n",
       "  <tbody>\n",
       "    <tr>\n",
       "      <th>1955</th>\n",
       "      <td>6148.000000</td>\n",
       "    </tr>\n",
       "    <tr>\n",
       "      <th>1956</th>\n",
       "      <td>7270.366667</td>\n",
       "    </tr>\n",
       "    <tr>\n",
       "      <th>1957</th>\n",
       "      <td>7337.766667</td>\n",
       "    </tr>\n",
       "    <tr>\n",
       "      <th>1958</th>\n",
       "      <td>7718.566667</td>\n",
       "    </tr>\n",
       "    <tr>\n",
       "      <th>1959</th>\n",
       "      <td>7062.133333</td>\n",
       "    </tr>\n",
       "  </tbody>\n",
       "</table>\n",
       "</div>"
      ],
      "text/plain": [
       "          Average\n",
       "Year             \n",
       "1955  6148.000000\n",
       "1956  7270.366667\n",
       "1957  7337.766667\n",
       "1958  7718.566667\n",
       "1959  7062.133333"
      ]
     },
     "execution_count": 4,
     "metadata": {},
     "output_type": "execute_result"
    }
   ],
   "source": [
    "data = df2.groupby('Year')['Revenue (in millions)'].sum().div(3).copy()\n",
    "df_av = pd.DataFrame(data.values, columns=['Average'], index=data.index)\n",
    "df_av.head()"
   ]
  },
  {
   "cell_type": "code",
   "execution_count": 5,
   "id": "449f1d1e",
   "metadata": {},
   "outputs": [
    {
     "data": {
      "text/html": [
       "<div>\n",
       "<style scoped>\n",
       "    .dataframe tbody tr th:only-of-type {\n",
       "        vertical-align: middle;\n",
       "    }\n",
       "\n",
       "    .dataframe tbody tr th {\n",
       "        vertical-align: top;\n",
       "    }\n",
       "\n",
       "    .dataframe thead th {\n",
       "        text-align: right;\n",
       "    }\n",
       "</style>\n",
       "<table border=\"1\" class=\"dataframe\">\n",
       "  <thead>\n",
       "    <tr style=\"text-align: right;\">\n",
       "      <th></th>\n",
       "      <th>Year</th>\n",
       "      <th>Rank</th>\n",
       "      <th>Company</th>\n",
       "      <th>Revenue (in millions)</th>\n",
       "      <th>Profit (in millions)</th>\n",
       "      <th>Rolling Average</th>\n",
       "    </tr>\n",
       "  </thead>\n",
       "  <tbody>\n",
       "    <tr>\n",
       "      <th>0</th>\n",
       "      <td>1955</td>\n",
       "      <td>1</td>\n",
       "      <td>General Motors</td>\n",
       "      <td>9823.5</td>\n",
       "      <td>806</td>\n",
       "      <td>NaN</td>\n",
       "    </tr>\n",
       "    <tr>\n",
       "      <th>500</th>\n",
       "      <td>1956</td>\n",
       "      <td>1</td>\n",
       "      <td>General Motors</td>\n",
       "      <td>12443.3</td>\n",
       "      <td>1189.5</td>\n",
       "      <td>NaN</td>\n",
       "    </tr>\n",
       "    <tr>\n",
       "      <th>1000</th>\n",
       "      <td>1957</td>\n",
       "      <td>1</td>\n",
       "      <td>General Motors</td>\n",
       "      <td>10796.4</td>\n",
       "      <td>847.4</td>\n",
       "      <td>NaN</td>\n",
       "    </tr>\n",
       "    <tr>\n",
       "      <th>1500</th>\n",
       "      <td>1958</td>\n",
       "      <td>1</td>\n",
       "      <td>General Motors</td>\n",
       "      <td>10989.8</td>\n",
       "      <td>843.6</td>\n",
       "      <td>NaN</td>\n",
       "    </tr>\n",
       "    <tr>\n",
       "      <th>2000</th>\n",
       "      <td>1959</td>\n",
       "      <td>1</td>\n",
       "      <td>General Motors</td>\n",
       "      <td>9522.0</td>\n",
       "      <td>633.6</td>\n",
       "      <td>10715.0</td>\n",
       "    </tr>\n",
       "  </tbody>\n",
       "</table>\n",
       "</div>"
      ],
      "text/plain": [
       "      Year  Rank         Company  Revenue (in millions) Profit (in millions)  \\\n",
       "0     1955     1  General Motors                 9823.5                  806   \n",
       "500   1956     1  General Motors                12443.3               1189.5   \n",
       "1000  1957     1  General Motors                10796.4                847.4   \n",
       "1500  1958     1  General Motors                10989.8                843.6   \n",
       "2000  1959     1  General Motors                 9522.0                633.6   \n",
       "\n",
       "      Rolling Average  \n",
       "0                 NaN  \n",
       "500               NaN  \n",
       "1000              NaN  \n",
       "1500              NaN  \n",
       "2000          10715.0  "
      ]
     },
     "execution_count": 5,
     "metadata": {},
     "output_type": "execute_result"
    }
   ],
   "source": [
    "df_gm = df2.loc[(df2['Company'] == 'General Motors')].copy()\n",
    "df_gm['Rolling Average'] = df_gm['Revenue (in millions)'].rolling(5).mean().copy()\n",
    "df_gm.head()"
   ]
  },
  {
   "cell_type": "code",
   "execution_count": 6,
   "id": "3030ec10",
   "metadata": {},
   "outputs": [
    {
     "data": {
      "text/html": [
       "<div>\n",
       "<style scoped>\n",
       "    .dataframe tbody tr th:only-of-type {\n",
       "        vertical-align: middle;\n",
       "    }\n",
       "\n",
       "    .dataframe tbody tr th {\n",
       "        vertical-align: top;\n",
       "    }\n",
       "\n",
       "    .dataframe thead th {\n",
       "        text-align: right;\n",
       "    }\n",
       "</style>\n",
       "<table border=\"1\" class=\"dataframe\">\n",
       "  <thead>\n",
       "    <tr style=\"text-align: right;\">\n",
       "      <th></th>\n",
       "      <th>Year</th>\n",
       "      <th>Rank</th>\n",
       "      <th>Company</th>\n",
       "      <th>Revenue (in millions)</th>\n",
       "      <th>Profit (in millions)</th>\n",
       "      <th>Rolling Average</th>\n",
       "    </tr>\n",
       "  </thead>\n",
       "  <tbody>\n",
       "    <tr>\n",
       "      <th>23000</th>\n",
       "      <td>2001</td>\n",
       "      <td>1</td>\n",
       "      <td>Exxon Mobil</td>\n",
       "      <td>210392.0</td>\n",
       "      <td>17720</td>\n",
       "      <td>143356.6</td>\n",
       "    </tr>\n",
       "    <tr>\n",
       "      <th>23501</th>\n",
       "      <td>2002</td>\n",
       "      <td>2</td>\n",
       "      <td>Exxon Mobil</td>\n",
       "      <td>191581.0</td>\n",
       "      <td>15320</td>\n",
       "      <td>157786.0</td>\n",
       "    </tr>\n",
       "    <tr>\n",
       "      <th>24002</th>\n",
       "      <td>2003</td>\n",
       "      <td>3</td>\n",
       "      <td>Exxon Mobil</td>\n",
       "      <td>182466.0</td>\n",
       "      <td>11460</td>\n",
       "      <td>169803.4</td>\n",
       "    </tr>\n",
       "    <tr>\n",
       "      <th>24501</th>\n",
       "      <td>2004</td>\n",
       "      <td>2</td>\n",
       "      <td>Exxon Mobil</td>\n",
       "      <td>213199.0</td>\n",
       "      <td>21510</td>\n",
       "      <td>192303.8</td>\n",
       "    </tr>\n",
       "    <tr>\n",
       "      <th>25001</th>\n",
       "      <td>2005</td>\n",
       "      <td>2</td>\n",
       "      <td>Exxon Mobil</td>\n",
       "      <td>270772.0</td>\n",
       "      <td>25330</td>\n",
       "      <td>213682.0</td>\n",
       "    </tr>\n",
       "  </tbody>\n",
       "</table>\n",
       "</div>"
      ],
      "text/plain": [
       "       Year  Rank      Company  Revenue (in millions) Profit (in millions)  \\\n",
       "23000  2001     1  Exxon Mobil               210392.0                17720   \n",
       "23501  2002     2  Exxon Mobil               191581.0                15320   \n",
       "24002  2003     3  Exxon Mobil               182466.0                11460   \n",
       "24501  2004     2  Exxon Mobil               213199.0                21510   \n",
       "25001  2005     2  Exxon Mobil               270772.0                25330   \n",
       "\n",
       "       Rolling Average  \n",
       "23000         143356.6  \n",
       "23501         157786.0  \n",
       "24002         169803.4  \n",
       "24501         192303.8  \n",
       "25001         213682.0  "
      ]
     },
     "execution_count": 6,
     "metadata": {},
     "output_type": "execute_result"
    }
   ],
   "source": [
    "df_ex = df2.loc[(df2['Company'] == 'Exxon Mobil')].copy()\n",
    "df_ex['Rolling Average'] = df_ex['Revenue (in millions)'].rolling(5).mean().copy()\n",
    "df_ex.tail()"
   ]
  },
  {
   "cell_type": "code",
   "execution_count": 7,
   "id": "99e91f0d",
   "metadata": {},
   "outputs": [
    {
     "data": {
      "text/html": [
       "<div>\n",
       "<style scoped>\n",
       "    .dataframe tbody tr th:only-of-type {\n",
       "        vertical-align: middle;\n",
       "    }\n",
       "\n",
       "    .dataframe tbody tr th {\n",
       "        vertical-align: top;\n",
       "    }\n",
       "\n",
       "    .dataframe thead th {\n",
       "        text-align: right;\n",
       "    }\n",
       "</style>\n",
       "<table border=\"1\" class=\"dataframe\">\n",
       "  <thead>\n",
       "    <tr style=\"text-align: right;\">\n",
       "      <th></th>\n",
       "      <th>Year</th>\n",
       "      <th>Rank</th>\n",
       "      <th>Company</th>\n",
       "      <th>Revenue (in millions)</th>\n",
       "      <th>Profit (in millions)</th>\n",
       "      <th>Rolling Average</th>\n",
       "    </tr>\n",
       "  </thead>\n",
       "  <tbody>\n",
       "    <tr>\n",
       "      <th>23004</th>\n",
       "      <td>2001</td>\n",
       "      <td>5</td>\n",
       "      <td>General Electric</td>\n",
       "      <td>129853.0</td>\n",
       "      <td>12735</td>\n",
       "      <td>102394.2</td>\n",
       "    </tr>\n",
       "    <tr>\n",
       "      <th>23505</th>\n",
       "      <td>2002</td>\n",
       "      <td>6</td>\n",
       "      <td>General Electric</td>\n",
       "      <td>125913.0</td>\n",
       "      <td>13684</td>\n",
       "      <td>111741.0</td>\n",
       "    </tr>\n",
       "    <tr>\n",
       "      <th>24004</th>\n",
       "      <td>2003</td>\n",
       "      <td>5</td>\n",
       "      <td>General Electric</td>\n",
       "      <td>131698.0</td>\n",
       "      <td>14118</td>\n",
       "      <td>119912.6</td>\n",
       "    </tr>\n",
       "    <tr>\n",
       "      <th>24504</th>\n",
       "      <td>2004</td>\n",
       "      <td>5</td>\n",
       "      <td>General Electric</td>\n",
       "      <td>134187.0</td>\n",
       "      <td>15002</td>\n",
       "      <td>126656.2</td>\n",
       "    </tr>\n",
       "    <tr>\n",
       "      <th>25004</th>\n",
       "      <td>2005</td>\n",
       "      <td>5</td>\n",
       "      <td>General Electric</td>\n",
       "      <td>152363.0</td>\n",
       "      <td>16593</td>\n",
       "      <td>134802.8</td>\n",
       "    </tr>\n",
       "  </tbody>\n",
       "</table>\n",
       "</div>"
      ],
      "text/plain": [
       "       Year  Rank           Company  Revenue (in millions)  \\\n",
       "23004  2001     5  General Electric               129853.0   \n",
       "23505  2002     6  General Electric               125913.0   \n",
       "24004  2003     5  General Electric               131698.0   \n",
       "24504  2004     5  General Electric               134187.0   \n",
       "25004  2005     5  General Electric               152363.0   \n",
       "\n",
       "      Profit (in millions)  Rolling Average  \n",
       "23004                12735         102394.2  \n",
       "23505                13684         111741.0  \n",
       "24004                14118         119912.6  \n",
       "24504                15002         126656.2  \n",
       "25004                16593         134802.8  "
      ]
     },
     "execution_count": 7,
     "metadata": {},
     "output_type": "execute_result"
    }
   ],
   "source": [
    "df_ge = df2.loc[(df2['Company'] == 'General Electric')].copy()\n",
    "df_ge['Rolling Average'] = df_ge['Revenue (in millions)'].rolling(5).mean().copy()\n",
    "df_ge.tail()"
   ]
  },
  {
   "cell_type": "code",
   "execution_count": 8,
   "id": "e9c35456",
   "metadata": {},
   "outputs": [
    {
     "data": {
      "text/html": [
       "<div>\n",
       "<style scoped>\n",
       "    .dataframe tbody tr th:only-of-type {\n",
       "        vertical-align: middle;\n",
       "    }\n",
       "\n",
       "    .dataframe tbody tr th {\n",
       "        vertical-align: top;\n",
       "    }\n",
       "\n",
       "    .dataframe thead th {\n",
       "        text-align: right;\n",
       "    }\n",
       "</style>\n",
       "<table border=\"1\" class=\"dataframe\">\n",
       "  <thead>\n",
       "    <tr style=\"text-align: right;\">\n",
       "      <th></th>\n",
       "      <th>Year</th>\n",
       "      <th>Rank</th>\n",
       "      <th>Company</th>\n",
       "      <th>Revenue (in millions)</th>\n",
       "      <th>Profit (in millions)</th>\n",
       "      <th>Average</th>\n",
       "    </tr>\n",
       "  </thead>\n",
       "  <tbody>\n",
       "    <tr>\n",
       "      <th>0</th>\n",
       "      <td>1955</td>\n",
       "      <td>1</td>\n",
       "      <td>General Motors</td>\n",
       "      <td>9823.5</td>\n",
       "      <td>806</td>\n",
       "      <td>6148.000000</td>\n",
       "    </tr>\n",
       "    <tr>\n",
       "      <th>1</th>\n",
       "      <td>1955</td>\n",
       "      <td>2</td>\n",
       "      <td>Exxon Mobil</td>\n",
       "      <td>5661.4</td>\n",
       "      <td>584.8</td>\n",
       "      <td>6148.000000</td>\n",
       "    </tr>\n",
       "    <tr>\n",
       "      <th>2</th>\n",
       "      <td>1955</td>\n",
       "      <td>4</td>\n",
       "      <td>General Electric</td>\n",
       "      <td>2959.1</td>\n",
       "      <td>212.6</td>\n",
       "      <td>6148.000000</td>\n",
       "    </tr>\n",
       "    <tr>\n",
       "      <th>3</th>\n",
       "      <td>1956</td>\n",
       "      <td>1</td>\n",
       "      <td>General Motors</td>\n",
       "      <td>12443.3</td>\n",
       "      <td>1189.5</td>\n",
       "      <td>7270.366667</td>\n",
       "    </tr>\n",
       "    <tr>\n",
       "      <th>4</th>\n",
       "      <td>1956</td>\n",
       "      <td>2</td>\n",
       "      <td>Exxon Mobil</td>\n",
       "      <td>6272.4</td>\n",
       "      <td>709.3</td>\n",
       "      <td>7270.366667</td>\n",
       "    </tr>\n",
       "  </tbody>\n",
       "</table>\n",
       "</div>"
      ],
      "text/plain": [
       "   Year  Rank           Company  Revenue (in millions) Profit (in millions)  \\\n",
       "0  1955     1    General Motors                 9823.5                  806   \n",
       "1  1955     2       Exxon Mobil                 5661.4                584.8   \n",
       "2  1955     4  General Electric                 2959.1                212.6   \n",
       "3  1956     1    General Motors                12443.3               1189.5   \n",
       "4  1956     2       Exxon Mobil                 6272.4                709.3   \n",
       "\n",
       "       Average  \n",
       "0  6148.000000  \n",
       "1  6148.000000  \n",
       "2  6148.000000  \n",
       "3  7270.366667  \n",
       "4  7270.366667  "
      ]
     },
     "execution_count": 8,
     "metadata": {},
     "output_type": "execute_result"
    }
   ],
   "source": [
    "df = df2.merge(df_av, how='inner', left_on ='Year', right_on='Year')\n",
    "df.head()"
   ]
  },
  {
   "cell_type": "markdown",
   "id": "def75cbb",
   "metadata": {},
   "source": [
    "Revenue comparison with rolling average for each company"
   ]
  },
  {
   "cell_type": "code",
   "execution_count": 14,
   "id": "f0613a61",
   "metadata": {},
   "outputs": [
    {
     "data": {
      "text/plain": [
       "Text(0.5, 1.0, 'Revenue comparison')"
      ]
     },
     "execution_count": 14,
     "metadata": {},
     "output_type": "execute_result"
    },
    {
     "data": {
      "image/png": "[encoded data removed]",
      "text/plain": [
       "<Figure size 432x288 with 1 Axes>"
      ]
     },
     "metadata": {},
     "output_type": "display_data"
    }
   ],
   "source": [
    "sns.lineplot(data=df, x='Year', y='Revenue (in millions)', hue='Company')\n",
    "sns.lineplot(data=df_gm, x='Year', y='Rolling Average', label='rolling average GM', linestyle='dashed')\n",
    "sns.lineplot(data=df_ex, x='Year', y='Rolling Average', label='rolling average EX',linestyle='dashed')\n",
    "sns.lineplot(data=df_ge, x='Year', y='Rolling Average', label='rolling average GE',linestyle='dashed')\n",
    "sns.set_theme(style=\"whitegrid\", palette=\"rocket\")\n",
    "plt.title('Revenue comparison', fontsize=15, fontweight=\"bold\")"
   ]
  },
  {
   "cell_type": "markdown",
   "id": "f82b031f",
   "metadata": {},
   "source": [
    "Revenue comparison with an overall rolling average "
   ]
  },
  {
   "cell_type": "code",
   "execution_count": 10,
   "id": "73962ff6",
   "metadata": {},
   "outputs": [
    {
     "data": {
      "image/png": "[encoded data removed]",
      "text/plain": [
       "<Figure size 432x288 with 1 Axes>"
      ]
     },
     "metadata": {},
     "output_type": "display_data"
    }
   ],
   "source": [
    "sns.lineplot(data=df, x='Year', y='Revenue (in millions)', hue='Company')\n",
    "sns.set_theme(style=\"whitegrid\", palette=\"rocket_r\")\n",
    "sns.lineplot(data=df, x='Year', y='Average', label='Overall average', linewidth = 3)\n",
    "plt.title('Revenue comparison', fontsize=15, fontweight=\"bold\")\n",
    "plt.yscale(\"log\")"
   ]
  },
  {
   "cell_type": "code",
   "execution_count": 11,
   "id": "645ac6b5",
   "metadata": {},
   "outputs": [
    {
     "data": {
      "text/html": [
       "<div>\n",
       "<style scoped>\n",
       "    .dataframe tbody tr th:only-of-type {\n",
       "        vertical-align: middle;\n",
       "    }\n",
       "\n",
       "    .dataframe tbody tr th {\n",
       "        vertical-align: top;\n",
       "    }\n",
       "\n",
       "    .dataframe thead th {\n",
       "        text-align: right;\n",
       "    }\n",
       "</style>\n",
       "<table border=\"1\" class=\"dataframe\">\n",
       "  <thead>\n",
       "    <tr style=\"text-align: right;\">\n",
       "      <th></th>\n",
       "      <th>Year</th>\n",
       "      <th>Rank</th>\n",
       "      <th>Company</th>\n",
       "      <th>Revenue (in millions)</th>\n",
       "      <th>Profit (in millions)</th>\n",
       "      <th>Average</th>\n",
       "      <th>Annual return rate</th>\n",
       "    </tr>\n",
       "  </thead>\n",
       "  <tbody>\n",
       "    <tr>\n",
       "      <th>148</th>\n",
       "      <td>2004</td>\n",
       "      <td>3</td>\n",
       "      <td>General Motors</td>\n",
       "      <td>195645.2</td>\n",
       "      <td>3822</td>\n",
       "      <td>181010.400000</td>\n",
       "      <td>0.047559</td>\n",
       "    </tr>\n",
       "    <tr>\n",
       "      <th>149</th>\n",
       "      <td>2004</td>\n",
       "      <td>5</td>\n",
       "      <td>General Electric</td>\n",
       "      <td>134187.0</td>\n",
       "      <td>15002</td>\n",
       "      <td>181010.400000</td>\n",
       "      <td>0.018899</td>\n",
       "    </tr>\n",
       "    <tr>\n",
       "      <th>150</th>\n",
       "      <td>2005</td>\n",
       "      <td>2</td>\n",
       "      <td>Exxon Mobil</td>\n",
       "      <td>270772.0</td>\n",
       "      <td>25330</td>\n",
       "      <td>205550.666667</td>\n",
       "      <td>0.270043</td>\n",
       "    </tr>\n",
       "    <tr>\n",
       "      <th>151</th>\n",
       "      <td>2005</td>\n",
       "      <td>3</td>\n",
       "      <td>General Motors</td>\n",
       "      <td>193517.0</td>\n",
       "      <td>2805</td>\n",
       "      <td>205550.666667</td>\n",
       "      <td>-0.010878</td>\n",
       "    </tr>\n",
       "    <tr>\n",
       "      <th>152</th>\n",
       "      <td>2005</td>\n",
       "      <td>5</td>\n",
       "      <td>General Electric</td>\n",
       "      <td>152363.0</td>\n",
       "      <td>16593</td>\n",
       "      <td>205550.666667</td>\n",
       "      <td>0.135453</td>\n",
       "    </tr>\n",
       "  </tbody>\n",
       "</table>\n",
       "</div>"
      ],
      "text/plain": [
       "     Year  Rank           Company  Revenue (in millions) Profit (in millions)  \\\n",
       "148  2004     3    General Motors               195645.2                 3822   \n",
       "149  2004     5  General Electric               134187.0                15002   \n",
       "150  2005     2       Exxon Mobil               270772.0                25330   \n",
       "151  2005     3    General Motors               193517.0                 2805   \n",
       "152  2005     5  General Electric               152363.0                16593   \n",
       "\n",
       "           Average  Annual return rate  \n",
       "148  181010.400000            0.047559  \n",
       "149  181010.400000            0.018899  \n",
       "150  205550.666667            0.270043  \n",
       "151  205550.666667           -0.010878  \n",
       "152  205550.666667            0.135453  "
      ]
     },
     "execution_count": 11,
     "metadata": {},
     "output_type": "execute_result"
    }
   ],
   "source": [
    "df['Annual return rate'] = df[['Company', 'Revenue (in millions)']].groupby('Company').pct_change(periods=1)['Revenue (in millions)']\n",
    "df.tail()"
   ]
  },
  {
   "cell_type": "code",
   "execution_count": 12,
   "id": "0aba02cf",
   "metadata": {},
   "outputs": [
    {
     "data": {
      "text/plain": [
       "Text(0.5, 1.0, 'Annual return rate comparison')"
      ]
     },
     "execution_count": 12,
     "metadata": {},
     "output_type": "execute_result"
    },
    {
     "data": {
      "image/png": "[encoded data removed]",
      "text/plain": [
       "<Figure size 432x288 with 1 Axes>"
      ]
     },
     "metadata": {},
     "output_type": "display_data"
    }
   ],
   "source": [
    "sns.violinplot(data=df, x='Company', y='Annual return rate', palette='rocket')\n",
    "plt.title('Annual return rate comparison', fontsize=15, fontweight=\"bold\")"
   ]
  },
  {
   "cell_type": "markdown",
   "id": "a965ecd3",
   "metadata": {},
   "source": [
    "Detailed revenue data comparison"
   ]
  },
  {
   "cell_type": "code",
   "execution_count": 15,
   "id": "960b79f3",
   "metadata": {},
   "outputs": [
    {
     "data": {
      "text/plain": [
       "Text(0.5, 1.0, 'Detailed revenue data comparison')"
      ]
     },
     "execution_count": 15,
     "metadata": {},
     "output_type": "execute_result"
    },
    {
     "data": {
      "image/png": "[encoded data removed]",
      "text/plain": [
       "<Figure size 432x288 with 1 Axes>"
      ]
     },
     "metadata": {},
     "output_type": "display_data"
    }
   ],
   "source": [
    "sns.boxplot(data = df, x = 'Company', y = 'Revenue (in millions)')\n",
    "plt.title('Detailed revenue data comparison', fontsize=15, fontweight='bold')"
   ]
  },
  {
   "cell_type": "code",
   "execution_count": null,
   "id": "9c713fbb",
   "metadata": {},
   "outputs": [],
   "source": []
  }
 ],
 "metadata": {
  "kernelspec": {
   "display_name": "Python 3 (ipykernel)",
   "language": "python",
   "name": "python3"
  },
  "language_info": {
   "codemirror_mode": {
    "name": "ipython",
    "version": 3
   },
   "file_extension": ".py",
   "mimetype": "text/x-python",
   "name": "python",
   "nbconvert_exporter": "python",
   "pygments_lexer": "ipython3",
   "version": "3.9.7"
  }
 },
 "nbformat": 4,
 "nbformat_minor": 5
}
